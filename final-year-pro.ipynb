{
 "cells": [
  {
   "cell_type": "code",
   "execution_count": 1,
   "id": "360298ea",
   "metadata": {
    "_cell_guid": "b1076dfc-b9ad-4769-8c92-a6c4dae69d19",
    "_uuid": "8f2839f25d086af736a60e9eeb907d3b93b6e0e5",
    "execution": {
     "iopub.execute_input": "2022-01-16T17:56:08.495720Z",
     "iopub.status.busy": "2022-01-16T17:56:08.493925Z",
     "iopub.status.idle": "2022-01-16T17:56:09.488099Z",
     "shell.execute_reply": "2022-01-16T17:56:09.488661Z",
     "shell.execute_reply.started": "2022-01-16T17:51:43.772781Z"
    },
    "papermill": {
     "duration": 1.024252,
     "end_time": "2022-01-16T17:56:09.488967",
     "exception": false,
     "start_time": "2022-01-16T17:56:08.464715",
     "status": "completed"
    },
    "tags": []
   },
   "outputs": [],
   "source": [
    "import numpy as np \n",
    "import pandas as pd \n",
    "import matplotlib.pyplot as plt \n",
    "import seaborn as sns \n"
   ]
  },
  {
   "cell_type": "code",
   "execution_count": 2,
   "id": "ccac5d0a",
   "metadata": {
    "execution": {
     "iopub.execute_input": "2022-01-16T17:56:09.542216Z",
     "iopub.status.busy": "2022-01-16T17:56:09.541636Z",
     "iopub.status.idle": "2022-01-16T17:56:09.556402Z",
     "shell.execute_reply": "2022-01-16T17:56:09.557274Z",
     "shell.execute_reply.started": "2022-01-16T17:51:44.755469Z"
    },
    "papermill": {
     "duration": 0.042657,
     "end_time": "2022-01-16T17:56:09.557535",
     "exception": false,
     "start_time": "2022-01-16T17:56:09.514878",
     "status": "completed"
    },
    "tags": []
   },
   "outputs": [
    {
     "name": "stdout",
     "output_type": "stream",
     "text": [
      "/kaggle/input/dataset/covid19_Confirmed_dataset.csv\n",
      "/kaggle/input/dataset/worldwide_happiness_report.csv\n"
     ]
    }
   ],
   "source": [
    "import os\n",
    "for dirname, _, filenames in os.walk('/kaggle/input'):\n",
    "    for filename in filenames:\n",
    "        print(os.path.join(dirname, filename))"
   ]
  },
  {
   "cell_type": "code",
   "execution_count": 3,
   "id": "7cc03d17",
   "metadata": {
    "execution": {
     "iopub.execute_input": "2022-01-16T17:56:09.612898Z",
     "iopub.status.busy": "2022-01-16T17:56:09.612174Z",
     "iopub.status.idle": "2022-01-16T17:56:09.636165Z",
     "shell.execute_reply": "2022-01-16T17:56:09.635693Z",
     "shell.execute_reply.started": "2022-01-16T17:51:44.770747Z"
    },
    "papermill": {
     "duration": 0.052852,
     "end_time": "2022-01-16T17:56:09.636297",
     "exception": false,
     "start_time": "2022-01-16T17:56:09.583445",
     "status": "completed"
    },
    "tags": []
   },
   "outputs": [
    {
     "data": {
      "text/plain": [
       "(266, 104)"
      ]
     },
     "execution_count": 3,
     "metadata": {},
     "output_type": "execute_result"
    }
   ],
   "source": [
    "covid_data = pd.read_csv('../input/dataset/covid19_Confirmed_dataset.csv')\n",
    "covid_data.shape"
   ]
  },
  {
   "cell_type": "code",
   "execution_count": 4,
   "id": "5fbfd70e",
   "metadata": {
    "execution": {
     "iopub.execute_input": "2022-01-16T17:56:09.687687Z",
     "iopub.status.busy": "2022-01-16T17:56:09.686839Z",
     "iopub.status.idle": "2022-01-16T17:56:09.715110Z",
     "shell.execute_reply": "2022-01-16T17:56:09.715653Z",
     "shell.execute_reply.started": "2022-01-16T17:51:44.796705Z"
    },
    "papermill": {
     "duration": 0.054848,
     "end_time": "2022-01-16T17:56:09.715802",
     "exception": false,
     "start_time": "2022-01-16T17:56:09.660954",
     "status": "completed"
    },
    "tags": []
   },
   "outputs": [
    {
     "data": {
      "text/html": [
       "<div>\n",
       "<style scoped>\n",
       "    .dataframe tbody tr th:only-of-type {\n",
       "        vertical-align: middle;\n",
       "    }\n",
       "\n",
       "    .dataframe tbody tr th {\n",
       "        vertical-align: top;\n",
       "    }\n",
       "\n",
       "    .dataframe thead th {\n",
       "        text-align: right;\n",
       "    }\n",
       "</style>\n",
       "<table border=\"1\" class=\"dataframe\">\n",
       "  <thead>\n",
       "    <tr style=\"text-align: right;\">\n",
       "      <th></th>\n",
       "      <th>Province/State</th>\n",
       "      <th>Country/Region</th>\n",
       "      <th>Lat</th>\n",
       "      <th>Long</th>\n",
       "      <th>1/22/20</th>\n",
       "      <th>1/23/20</th>\n",
       "      <th>1/24/20</th>\n",
       "      <th>1/25/20</th>\n",
       "      <th>1/26/20</th>\n",
       "      <th>1/27/20</th>\n",
       "      <th>...</th>\n",
       "      <th>4/21/20</th>\n",
       "      <th>4/22/20</th>\n",
       "      <th>4/23/20</th>\n",
       "      <th>4/24/20</th>\n",
       "      <th>4/25/20</th>\n",
       "      <th>4/26/20</th>\n",
       "      <th>4/27/20</th>\n",
       "      <th>4/28/20</th>\n",
       "      <th>4/29/20</th>\n",
       "      <th>4/30/20</th>\n",
       "    </tr>\n",
       "  </thead>\n",
       "  <tbody>\n",
       "    <tr>\n",
       "      <th>0</th>\n",
       "      <td>NaN</td>\n",
       "      <td>Afghanistan</td>\n",
       "      <td>33.0000</td>\n",
       "      <td>65.0000</td>\n",
       "      <td>0</td>\n",
       "      <td>0</td>\n",
       "      <td>0</td>\n",
       "      <td>0</td>\n",
       "      <td>0</td>\n",
       "      <td>0</td>\n",
       "      <td>...</td>\n",
       "      <td>1092</td>\n",
       "      <td>1176</td>\n",
       "      <td>1279</td>\n",
       "      <td>1351</td>\n",
       "      <td>1463</td>\n",
       "      <td>1531</td>\n",
       "      <td>1703</td>\n",
       "      <td>1828</td>\n",
       "      <td>1939</td>\n",
       "      <td>2171</td>\n",
       "    </tr>\n",
       "    <tr>\n",
       "      <th>1</th>\n",
       "      <td>NaN</td>\n",
       "      <td>Albania</td>\n",
       "      <td>41.1533</td>\n",
       "      <td>20.1683</td>\n",
       "      <td>0</td>\n",
       "      <td>0</td>\n",
       "      <td>0</td>\n",
       "      <td>0</td>\n",
       "      <td>0</td>\n",
       "      <td>0</td>\n",
       "      <td>...</td>\n",
       "      <td>609</td>\n",
       "      <td>634</td>\n",
       "      <td>663</td>\n",
       "      <td>678</td>\n",
       "      <td>712</td>\n",
       "      <td>726</td>\n",
       "      <td>736</td>\n",
       "      <td>750</td>\n",
       "      <td>766</td>\n",
       "      <td>773</td>\n",
       "    </tr>\n",
       "    <tr>\n",
       "      <th>2</th>\n",
       "      <td>NaN</td>\n",
       "      <td>Algeria</td>\n",
       "      <td>28.0339</td>\n",
       "      <td>1.6596</td>\n",
       "      <td>0</td>\n",
       "      <td>0</td>\n",
       "      <td>0</td>\n",
       "      <td>0</td>\n",
       "      <td>0</td>\n",
       "      <td>0</td>\n",
       "      <td>...</td>\n",
       "      <td>2811</td>\n",
       "      <td>2910</td>\n",
       "      <td>3007</td>\n",
       "      <td>3127</td>\n",
       "      <td>3256</td>\n",
       "      <td>3382</td>\n",
       "      <td>3517</td>\n",
       "      <td>3649</td>\n",
       "      <td>3848</td>\n",
       "      <td>4006</td>\n",
       "    </tr>\n",
       "    <tr>\n",
       "      <th>3</th>\n",
       "      <td>NaN</td>\n",
       "      <td>Andorra</td>\n",
       "      <td>42.5063</td>\n",
       "      <td>1.5218</td>\n",
       "      <td>0</td>\n",
       "      <td>0</td>\n",
       "      <td>0</td>\n",
       "      <td>0</td>\n",
       "      <td>0</td>\n",
       "      <td>0</td>\n",
       "      <td>...</td>\n",
       "      <td>717</td>\n",
       "      <td>723</td>\n",
       "      <td>723</td>\n",
       "      <td>731</td>\n",
       "      <td>738</td>\n",
       "      <td>738</td>\n",
       "      <td>743</td>\n",
       "      <td>743</td>\n",
       "      <td>743</td>\n",
       "      <td>745</td>\n",
       "    </tr>\n",
       "    <tr>\n",
       "      <th>4</th>\n",
       "      <td>NaN</td>\n",
       "      <td>Angola</td>\n",
       "      <td>-11.2027</td>\n",
       "      <td>17.8739</td>\n",
       "      <td>0</td>\n",
       "      <td>0</td>\n",
       "      <td>0</td>\n",
       "      <td>0</td>\n",
       "      <td>0</td>\n",
       "      <td>0</td>\n",
       "      <td>...</td>\n",
       "      <td>24</td>\n",
       "      <td>25</td>\n",
       "      <td>25</td>\n",
       "      <td>25</td>\n",
       "      <td>25</td>\n",
       "      <td>26</td>\n",
       "      <td>27</td>\n",
       "      <td>27</td>\n",
       "      <td>27</td>\n",
       "      <td>27</td>\n",
       "    </tr>\n",
       "  </tbody>\n",
       "</table>\n",
       "<p>5 rows × 104 columns</p>\n",
       "</div>"
      ],
      "text/plain": [
       "  Province/State Country/Region      Lat     Long  1/22/20  1/23/20  1/24/20  \\\n",
       "0            NaN    Afghanistan  33.0000  65.0000        0        0        0   \n",
       "1            NaN        Albania  41.1533  20.1683        0        0        0   \n",
       "2            NaN        Algeria  28.0339   1.6596        0        0        0   \n",
       "3            NaN        Andorra  42.5063   1.5218        0        0        0   \n",
       "4            NaN         Angola -11.2027  17.8739        0        0        0   \n",
       "\n",
       "   1/25/20  1/26/20  1/27/20  ...  4/21/20  4/22/20  4/23/20  4/24/20  \\\n",
       "0        0        0        0  ...     1092     1176     1279     1351   \n",
       "1        0        0        0  ...      609      634      663      678   \n",
       "2        0        0        0  ...     2811     2910     3007     3127   \n",
       "3        0        0        0  ...      717      723      723      731   \n",
       "4        0        0        0  ...       24       25       25       25   \n",
       "\n",
       "   4/25/20  4/26/20  4/27/20  4/28/20  4/29/20  4/30/20  \n",
       "0     1463     1531     1703     1828     1939     2171  \n",
       "1      712      726      736      750      766      773  \n",
       "2     3256     3382     3517     3649     3848     4006  \n",
       "3      738      738      743      743      743      745  \n",
       "4       25       26       27       27       27       27  \n",
       "\n",
       "[5 rows x 104 columns]"
      ]
     },
     "execution_count": 4,
     "metadata": {},
     "output_type": "execute_result"
    }
   ],
   "source": [
    "covid_data.head()"
   ]
  },
  {
   "cell_type": "code",
   "execution_count": 5,
   "id": "967a0f2d",
   "metadata": {
    "execution": {
     "iopub.execute_input": "2022-01-16T17:56:09.773140Z",
     "iopub.status.busy": "2022-01-16T17:56:09.772517Z",
     "iopub.status.idle": "2022-01-16T17:56:09.779708Z",
     "shell.execute_reply": "2022-01-16T17:56:09.779004Z",
     "shell.execute_reply.started": "2022-01-16T17:51:44.826783Z"
    },
    "papermill": {
     "duration": 0.039737,
     "end_time": "2022-01-16T17:56:09.779883",
     "exception": false,
     "start_time": "2022-01-16T17:56:09.740146",
     "status": "completed"
    },
    "tags": []
   },
   "outputs": [
    {
     "name": "stdout",
     "output_type": "stream",
     "text": [
      "Number of Countries:  187\n"
     ]
    }
   ],
   "source": [
    "countries = list(covid_data['Country/Region'].unique())\n",
    "print(\"Number of Countries: \", len(countries))"
   ]
  },
  {
   "cell_type": "code",
   "execution_count": 6,
   "id": "a2b6bac9",
   "metadata": {
    "execution": {
     "iopub.execute_input": "2022-01-16T17:56:09.837013Z",
     "iopub.status.busy": "2022-01-16T17:56:09.833209Z",
     "iopub.status.idle": "2022-01-16T17:56:09.839751Z",
     "shell.execute_reply": "2022-01-16T17:56:09.840287Z",
     "shell.execute_reply.started": "2022-01-16T17:51:44.839789Z"
    },
    "papermill": {
     "duration": 0.03473,
     "end_time": "2022-01-16T17:56:09.840459",
     "exception": false,
     "start_time": "2022-01-16T17:56:09.805729",
     "status": "completed"
    },
    "tags": []
   },
   "outputs": [
    {
     "data": {
      "text/plain": [
       "(266, 102)"
      ]
     },
     "execution_count": 6,
     "metadata": {},
     "output_type": "execute_result"
    }
   ],
   "source": [
    "covid_data.drop(['Lat', 'Long'], axis=1, inplace=True)\n",
    "covid_data.shape"
   ]
  },
  {
   "cell_type": "code",
   "execution_count": 7,
   "id": "f6967512",
   "metadata": {
    "execution": {
     "iopub.execute_input": "2022-01-16T17:56:09.893377Z",
     "iopub.status.busy": "2022-01-16T17:56:09.892815Z",
     "iopub.status.idle": "2022-01-16T17:56:09.903093Z",
     "shell.execute_reply": "2022-01-16T17:56:09.903910Z",
     "shell.execute_reply.started": "2022-01-16T17:51:44.848809Z"
    },
    "papermill": {
     "duration": 0.03861,
     "end_time": "2022-01-16T17:56:09.904127",
     "exception": false,
     "start_time": "2022-01-16T17:56:09.865517",
     "status": "completed"
    },
    "tags": []
   },
   "outputs": [
    {
     "name": "stdout",
     "output_type": "stream",
     "text": [
      "(187, 100)\n"
     ]
    }
   ],
   "source": [
    "covid_data_agg = covid_data.groupby('Country/Region').sum()\n",
    "print(covid_data_agg.shape)"
   ]
  },
  {
   "cell_type": "code",
   "execution_count": 8,
   "id": "f8fdcc59",
   "metadata": {
    "execution": {
     "iopub.execute_input": "2022-01-16T17:56:09.972686Z",
     "iopub.status.busy": "2022-01-16T17:56:09.971860Z",
     "iopub.status.idle": "2022-01-16T17:56:09.975203Z",
     "shell.execute_reply": "2022-01-16T17:56:09.975714Z",
     "shell.execute_reply.started": "2022-01-16T17:51:44.863860Z"
    },
    "papermill": {
     "duration": 0.045141,
     "end_time": "2022-01-16T17:56:09.975869",
     "exception": false,
     "start_time": "2022-01-16T17:56:09.930728",
     "status": "completed"
    },
    "tags": []
   },
   "outputs": [
    {
     "data": {
      "text/html": [
       "<div>\n",
       "<style scoped>\n",
       "    .dataframe tbody tr th:only-of-type {\n",
       "        vertical-align: middle;\n",
       "    }\n",
       "\n",
       "    .dataframe tbody tr th {\n",
       "        vertical-align: top;\n",
       "    }\n",
       "\n",
       "    .dataframe thead th {\n",
       "        text-align: right;\n",
       "    }\n",
       "</style>\n",
       "<table border=\"1\" class=\"dataframe\">\n",
       "  <thead>\n",
       "    <tr style=\"text-align: right;\">\n",
       "      <th></th>\n",
       "      <th>1/22/20</th>\n",
       "      <th>1/23/20</th>\n",
       "      <th>1/24/20</th>\n",
       "      <th>1/25/20</th>\n",
       "      <th>1/26/20</th>\n",
       "      <th>1/27/20</th>\n",
       "      <th>1/28/20</th>\n",
       "      <th>1/29/20</th>\n",
       "      <th>1/30/20</th>\n",
       "      <th>1/31/20</th>\n",
       "      <th>...</th>\n",
       "      <th>4/21/20</th>\n",
       "      <th>4/22/20</th>\n",
       "      <th>4/23/20</th>\n",
       "      <th>4/24/20</th>\n",
       "      <th>4/25/20</th>\n",
       "      <th>4/26/20</th>\n",
       "      <th>4/27/20</th>\n",
       "      <th>4/28/20</th>\n",
       "      <th>4/29/20</th>\n",
       "      <th>4/30/20</th>\n",
       "    </tr>\n",
       "    <tr>\n",
       "      <th>Country/Region</th>\n",
       "      <th></th>\n",
       "      <th></th>\n",
       "      <th></th>\n",
       "      <th></th>\n",
       "      <th></th>\n",
       "      <th></th>\n",
       "      <th></th>\n",
       "      <th></th>\n",
       "      <th></th>\n",
       "      <th></th>\n",
       "      <th></th>\n",
       "      <th></th>\n",
       "      <th></th>\n",
       "      <th></th>\n",
       "      <th></th>\n",
       "      <th></th>\n",
       "      <th></th>\n",
       "      <th></th>\n",
       "      <th></th>\n",
       "      <th></th>\n",
       "      <th></th>\n",
       "    </tr>\n",
       "  </thead>\n",
       "  <tbody>\n",
       "    <tr>\n",
       "      <th>Afghanistan</th>\n",
       "      <td>0</td>\n",
       "      <td>0</td>\n",
       "      <td>0</td>\n",
       "      <td>0</td>\n",
       "      <td>0</td>\n",
       "      <td>0</td>\n",
       "      <td>0</td>\n",
       "      <td>0</td>\n",
       "      <td>0</td>\n",
       "      <td>0</td>\n",
       "      <td>...</td>\n",
       "      <td>1092</td>\n",
       "      <td>1176</td>\n",
       "      <td>1279</td>\n",
       "      <td>1351</td>\n",
       "      <td>1463</td>\n",
       "      <td>1531</td>\n",
       "      <td>1703</td>\n",
       "      <td>1828</td>\n",
       "      <td>1939</td>\n",
       "      <td>2171</td>\n",
       "    </tr>\n",
       "    <tr>\n",
       "      <th>Albania</th>\n",
       "      <td>0</td>\n",
       "      <td>0</td>\n",
       "      <td>0</td>\n",
       "      <td>0</td>\n",
       "      <td>0</td>\n",
       "      <td>0</td>\n",
       "      <td>0</td>\n",
       "      <td>0</td>\n",
       "      <td>0</td>\n",
       "      <td>0</td>\n",
       "      <td>...</td>\n",
       "      <td>609</td>\n",
       "      <td>634</td>\n",
       "      <td>663</td>\n",
       "      <td>678</td>\n",
       "      <td>712</td>\n",
       "      <td>726</td>\n",
       "      <td>736</td>\n",
       "      <td>750</td>\n",
       "      <td>766</td>\n",
       "      <td>773</td>\n",
       "    </tr>\n",
       "    <tr>\n",
       "      <th>Algeria</th>\n",
       "      <td>0</td>\n",
       "      <td>0</td>\n",
       "      <td>0</td>\n",
       "      <td>0</td>\n",
       "      <td>0</td>\n",
       "      <td>0</td>\n",
       "      <td>0</td>\n",
       "      <td>0</td>\n",
       "      <td>0</td>\n",
       "      <td>0</td>\n",
       "      <td>...</td>\n",
       "      <td>2811</td>\n",
       "      <td>2910</td>\n",
       "      <td>3007</td>\n",
       "      <td>3127</td>\n",
       "      <td>3256</td>\n",
       "      <td>3382</td>\n",
       "      <td>3517</td>\n",
       "      <td>3649</td>\n",
       "      <td>3848</td>\n",
       "      <td>4006</td>\n",
       "    </tr>\n",
       "    <tr>\n",
       "      <th>Andorra</th>\n",
       "      <td>0</td>\n",
       "      <td>0</td>\n",
       "      <td>0</td>\n",
       "      <td>0</td>\n",
       "      <td>0</td>\n",
       "      <td>0</td>\n",
       "      <td>0</td>\n",
       "      <td>0</td>\n",
       "      <td>0</td>\n",
       "      <td>0</td>\n",
       "      <td>...</td>\n",
       "      <td>717</td>\n",
       "      <td>723</td>\n",
       "      <td>723</td>\n",
       "      <td>731</td>\n",
       "      <td>738</td>\n",
       "      <td>738</td>\n",
       "      <td>743</td>\n",
       "      <td>743</td>\n",
       "      <td>743</td>\n",
       "      <td>745</td>\n",
       "    </tr>\n",
       "    <tr>\n",
       "      <th>Angola</th>\n",
       "      <td>0</td>\n",
       "      <td>0</td>\n",
       "      <td>0</td>\n",
       "      <td>0</td>\n",
       "      <td>0</td>\n",
       "      <td>0</td>\n",
       "      <td>0</td>\n",
       "      <td>0</td>\n",
       "      <td>0</td>\n",
       "      <td>0</td>\n",
       "      <td>...</td>\n",
       "      <td>24</td>\n",
       "      <td>25</td>\n",
       "      <td>25</td>\n",
       "      <td>25</td>\n",
       "      <td>25</td>\n",
       "      <td>26</td>\n",
       "      <td>27</td>\n",
       "      <td>27</td>\n",
       "      <td>27</td>\n",
       "      <td>27</td>\n",
       "    </tr>\n",
       "  </tbody>\n",
       "</table>\n",
       "<p>5 rows × 100 columns</p>\n",
       "</div>"
      ],
      "text/plain": [
       "                1/22/20  1/23/20  1/24/20  1/25/20  1/26/20  1/27/20  1/28/20  \\\n",
       "Country/Region                                                                  \n",
       "Afghanistan           0        0        0        0        0        0        0   \n",
       "Albania               0        0        0        0        0        0        0   \n",
       "Algeria               0        0        0        0        0        0        0   \n",
       "Andorra               0        0        0        0        0        0        0   \n",
       "Angola                0        0        0        0        0        0        0   \n",
       "\n",
       "                1/29/20  1/30/20  1/31/20  ...  4/21/20  4/22/20  4/23/20  \\\n",
       "Country/Region                             ...                              \n",
       "Afghanistan           0        0        0  ...     1092     1176     1279   \n",
       "Albania               0        0        0  ...      609      634      663   \n",
       "Algeria               0        0        0  ...     2811     2910     3007   \n",
       "Andorra               0        0        0  ...      717      723      723   \n",
       "Angola                0        0        0  ...       24       25       25   \n",
       "\n",
       "                4/24/20  4/25/20  4/26/20  4/27/20  4/28/20  4/29/20  4/30/20  \n",
       "Country/Region                                                                 \n",
       "Afghanistan        1351     1463     1531     1703     1828     1939     2171  \n",
       "Albania             678      712      726      736      750      766      773  \n",
       "Algeria            3127     3256     3382     3517     3649     3848     4006  \n",
       "Andorra             731      738      738      743      743      743      745  \n",
       "Angola               25       25       26       27       27       27       27  \n",
       "\n",
       "[5 rows x 100 columns]"
      ]
     },
     "execution_count": 8,
     "metadata": {},
     "output_type": "execute_result"
    }
   ],
   "source": [
    "covid_data_agg.head()"
   ]
  },
  {
   "cell_type": "code",
   "execution_count": 9,
   "id": "3d010488",
   "metadata": {
    "execution": {
     "iopub.execute_input": "2022-01-16T17:56:10.032294Z",
     "iopub.status.busy": "2022-01-16T17:56:10.031398Z",
     "iopub.status.idle": "2022-01-16T17:56:10.288573Z",
     "shell.execute_reply": "2022-01-16T17:56:10.289074Z",
     "shell.execute_reply.started": "2022-01-16T17:51:44.882714Z"
    },
    "papermill": {
     "duration": 0.286418,
     "end_time": "2022-01-16T17:56:10.289236",
     "exception": false,
     "start_time": "2022-01-16T17:56:10.002818",
     "status": "completed"
    },
    "tags": []
   },
   "outputs": [
    {
     "data": {
      "text/plain": [
       "<matplotlib.legend.Legend at 0x7fdc34367c10>"
      ]
     },
     "execution_count": 9,
     "metadata": {},
     "output_type": "execute_result"
    },
    {
     "data": {
      "image/png": "[encoded data removed]",
      "text/plain": [
       "<Figure size 432x288 with 1 Axes>"
      ]
     },
     "metadata": {
      "needs_background": "light"
     },
     "output_type": "display_data"
    }
   ],
   "source": [
    "\n",
    "covid_data_agg.loc['India'].plot()\n",
    "plt.legend()"
   ]
  },
  {
   "cell_type": "code",
   "execution_count": 10,
   "id": "1f653e54",
   "metadata": {
    "execution": {
     "iopub.execute_input": "2022-01-16T17:56:10.347355Z",
     "iopub.status.busy": "2022-01-16T17:56:10.346779Z",
     "iopub.status.idle": "2022-01-16T17:56:10.487827Z",
     "shell.execute_reply": "2022-01-16T17:56:10.488289Z",
     "shell.execute_reply.started": "2022-01-16T17:51:45.115520Z"
    },
    "papermill": {
     "duration": 0.171559,
     "end_time": "2022-01-16T17:56:10.488531",
     "exception": false,
     "start_time": "2022-01-16T17:56:10.316972",
     "status": "completed"
    },
    "tags": []
   },
   "outputs": [
    {
     "data": {
      "text/plain": [
       "<AxesSubplot:>"
      ]
     },
     "execution_count": 10,
     "metadata": {},
     "output_type": "execute_result"
    },
    {
     "data": {
      "image/png": "[encoded data removed]",
      "text/plain": [
       "<Figure size 432x288 with 1 Axes>"
      ]
     },
     "metadata": {
      "needs_background": "light"
     },
     "output_type": "display_data"
    }
   ],
   "source": [
    "n = 25\n",
    "covid_data_agg.loc['India'][:n].plot()\n"
   ]
  },
  {
   "cell_type": "code",
   "execution_count": 11,
   "id": "8438ca10",
   "metadata": {
    "execution": {
     "iopub.execute_input": "2022-01-16T17:56:10.549524Z",
     "iopub.status.busy": "2022-01-16T17:56:10.548860Z",
     "iopub.status.idle": "2022-01-16T17:56:10.695084Z",
     "shell.execute_reply": "2022-01-16T17:56:10.695484Z",
     "shell.execute_reply.started": "2022-01-16T17:51:45.305460Z"
    },
    "papermill": {
     "duration": 0.178437,
     "end_time": "2022-01-16T17:56:10.695653",
     "exception": false,
     "start_time": "2022-01-16T17:56:10.517216",
     "status": "completed"
    },
    "tags": []
   },
   "outputs": [
    {
     "data": {
      "text/plain": [
       "<AxesSubplot:>"
      ]
     },
     "execution_count": 11,
     "metadata": {},
     "output_type": "execute_result"
    },
    {
     "data": {
      "image/png": "[encoded data removed]",
      "text/plain": [
       "<Figure size 432x288 with 1 Axes>"
      ]
     },
     "metadata": {
      "needs_background": "light"
     },
     "output_type": "display_data"
    }
   ],
   "source": [
    "n = 3\n",
    "covid_data_agg.loc['China'][:n].plot()\n"
   ]
  },
  {
   "cell_type": "code",
   "execution_count": 12,
   "id": "8c3c3e0b",
   "metadata": {
    "execution": {
     "iopub.execute_input": "2022-01-16T17:56:10.760279Z",
     "iopub.status.busy": "2022-01-16T17:56:10.759286Z",
     "iopub.status.idle": "2022-01-16T17:56:10.900623Z",
     "shell.execute_reply": "2022-01-16T17:56:10.901115Z",
     "shell.execute_reply.started": "2022-01-16T17:51:45.507043Z"
    },
    "papermill": {
     "duration": 0.176275,
     "end_time": "2022-01-16T17:56:10.901268",
     "exception": false,
     "start_time": "2022-01-16T17:56:10.724993",
     "status": "completed"
    },
    "tags": []
   },
   "outputs": [
    {
     "data": {
      "text/plain": [
       "<AxesSubplot:>"
      ]
     },
     "execution_count": 12,
     "metadata": {},
     "output_type": "execute_result"
    },
    {
     "data": {
      "image/png": "[encoded data removed]",
      "text/plain": [
       "<Figure size 432x288 with 1 Axes>"
      ]
     },
     "metadata": {
      "needs_background": "light"
     },
     "output_type": "display_data"
    }
   ],
   "source": [
    "n = 30\n",
    "covid_data_agg.loc['Italy'][:n].plot()\n"
   ]
  },
  {
   "cell_type": "code",
   "execution_count": 13,
   "id": "4f38ac5c",
   "metadata": {
    "execution": {
     "iopub.execute_input": "2022-01-16T17:56:10.982097Z",
     "iopub.status.busy": "2022-01-16T17:56:10.971845Z",
     "iopub.status.idle": "2022-01-16T17:56:11.109169Z",
     "shell.execute_reply": "2022-01-16T17:56:11.108582Z",
     "shell.execute_reply.started": "2022-01-16T17:51:45.704670Z"
    },
    "papermill": {
     "duration": 0.178036,
     "end_time": "2022-01-16T17:56:11.109309",
     "exception": false,
     "start_time": "2022-01-16T17:56:10.931273",
     "status": "completed"
    },
    "tags": []
   },
   "outputs": [
    {
     "data": {
      "text/plain": [
       "<AxesSubplot:>"
      ]
     },
     "execution_count": 13,
     "metadata": {},
     "output_type": "execute_result"
    },
    {
     "data": {
      "image/png": "[encoded data removed]",
      "text/plain": [
       "<Figure size 432x288 with 1 Axes>"
      ]
     },
     "metadata": {
      "needs_background": "light"
     },
     "output_type": "display_data"
    }
   ],
   "source": [
    "covid_data_agg.loc['India'].diff().plot()"
   ]
  },
  {
   "cell_type": "code",
   "execution_count": 14,
   "id": "9ff48817",
   "metadata": {
    "execution": {
     "iopub.execute_input": "2022-01-16T17:56:11.176710Z",
     "iopub.status.busy": "2022-01-16T17:56:11.175833Z",
     "iopub.status.idle": "2022-01-16T17:56:11.314985Z",
     "shell.execute_reply": "2022-01-16T17:56:11.315534Z",
     "shell.execute_reply.started": "2022-01-16T17:51:45.904058Z"
    },
    "papermill": {
     "duration": 0.174667,
     "end_time": "2022-01-16T17:56:11.315698",
     "exception": false,
     "start_time": "2022-01-16T17:56:11.141031",
     "status": "completed"
    },
    "tags": []
   },
   "outputs": [
    {
     "data": {
      "text/plain": [
       "<AxesSubplot:>"
      ]
     },
     "execution_count": 14,
     "metadata": {},
     "output_type": "execute_result"
    },
    {
     "data": {
      "image/png": "[encoded data removed]",
      "text/plain": [
       "<Figure size 432x288 with 1 Axes>"
      ]
     },
     "metadata": {
      "needs_background": "light"
     },
     "output_type": "display_data"
    }
   ],
   "source": [
    "covid_data_agg.loc['China'].diff().plot()"
   ]
  },
  {
   "cell_type": "code",
   "execution_count": 15,
   "id": "b0e5b95d",
   "metadata": {
    "execution": {
     "iopub.execute_input": "2022-01-16T17:56:11.384036Z",
     "iopub.status.busy": "2022-01-16T17:56:11.383107Z",
     "iopub.status.idle": "2022-01-16T17:56:11.517048Z",
     "shell.execute_reply": "2022-01-16T17:56:11.517612Z",
     "shell.execute_reply.started": "2022-01-16T17:51:46.100273Z"
    },
    "papermill": {
     "duration": 0.170278,
     "end_time": "2022-01-16T17:56:11.517793",
     "exception": false,
     "start_time": "2022-01-16T17:56:11.347515",
     "status": "completed"
    },
    "tags": []
   },
   "outputs": [
    {
     "data": {
      "text/plain": [
       "<AxesSubplot:>"
      ]
     },
     "execution_count": 15,
     "metadata": {},
     "output_type": "execute_result"
    },
    {
     "data": {
      "image/png": "[encoded data removed]",
      "text/plain": [
       "<Figure size 432x288 with 1 Axes>"
      ]
     },
     "metadata": {
      "needs_background": "light"
     },
     "output_type": "display_data"
    }
   ],
   "source": [
    "covid_data_agg.loc['Italy'].diff().plot()"
   ]
  },
  {
   "cell_type": "code",
   "execution_count": 16,
   "id": "5bd29d58",
   "metadata": {
    "execution": {
     "iopub.execute_input": "2022-01-16T17:56:11.590126Z",
     "iopub.status.busy": "2022-01-16T17:56:11.589123Z",
     "iopub.status.idle": "2022-01-16T17:56:11.597111Z",
     "shell.execute_reply": "2022-01-16T17:56:11.596599Z",
     "shell.execute_reply.started": "2022-01-16T17:51:46.293646Z"
    },
    "papermill": {
     "duration": 0.045069,
     "end_time": "2022-01-16T17:56:11.597238",
     "exception": false,
     "start_time": "2022-01-16T17:56:11.552169",
     "status": "completed"
    },
    "tags": []
   },
   "outputs": [
    {
     "name": "stdout",
     "output_type": "stream",
     "text": [
      "Maximum Increase in a day: 1893.0\n",
      "Minimum Increase in a day:  0.0\n"
     ]
    }
   ],
   "source": [
    "max_inc = covid_data_agg.loc['India'].diff().max()\n",
    "min_inc = covid_data_agg.loc['India'].diff().min()\n",
    "\n",
    "print(\"Maximum Increase in a day:\", max_inc)\n",
    "print(\"Minimum Increase in a day: \", min_inc)"
   ]
  },
  {
   "cell_type": "code",
   "execution_count": 17,
   "id": "7b5e11f4",
   "metadata": {
    "execution": {
     "iopub.execute_input": "2022-01-16T17:56:11.734388Z",
     "iopub.status.busy": "2022-01-16T17:56:11.733720Z",
     "iopub.status.idle": "2022-01-16T17:56:11.736687Z",
     "shell.execute_reply": "2022-01-16T17:56:11.736136Z",
     "shell.execute_reply.started": "2022-01-16T17:51:46.301554Z"
    },
    "papermill": {
     "duration": 0.105028,
     "end_time": "2022-01-16T17:56:11.736829",
     "exception": false,
     "start_time": "2022-01-16T17:56:11.631801",
     "status": "completed"
    },
    "tags": []
   },
   "outputs": [],
   "source": [
    "max_infections = []\n",
    "for c in countries: \n",
    "    max_infections.append(covid_data_agg.loc[c].diff().max())\n",
    "\n",
    "# Add to the data\n",
    "covid_data_agg['max_infection_rate'] = max_infections"
   ]
  },
  {
   "cell_type": "code",
   "execution_count": 18,
   "id": "7ad5939b",
   "metadata": {
    "execution": {
     "iopub.execute_input": "2022-01-16T17:56:11.816021Z",
     "iopub.status.busy": "2022-01-16T17:56:11.815352Z",
     "iopub.status.idle": "2022-01-16T17:56:11.818205Z",
     "shell.execute_reply": "2022-01-16T17:56:11.817763Z",
     "shell.execute_reply.started": "2022-01-16T17:51:46.361327Z"
    },
    "papermill": {
     "duration": 0.045752,
     "end_time": "2022-01-16T17:56:11.818327",
     "exception": false,
     "start_time": "2022-01-16T17:56:11.772575",
     "status": "completed"
    },
    "tags": []
   },
   "outputs": [
    {
     "data": {
      "text/html": [
       "<div>\n",
       "<style scoped>\n",
       "    .dataframe tbody tr th:only-of-type {\n",
       "        vertical-align: middle;\n",
       "    }\n",
       "\n",
       "    .dataframe tbody tr th {\n",
       "        vertical-align: top;\n",
       "    }\n",
       "\n",
       "    .dataframe thead th {\n",
       "        text-align: right;\n",
       "    }\n",
       "</style>\n",
       "<table border=\"1\" class=\"dataframe\">\n",
       "  <thead>\n",
       "    <tr style=\"text-align: right;\">\n",
       "      <th></th>\n",
       "      <th>max_infection_rate</th>\n",
       "    </tr>\n",
       "    <tr>\n",
       "      <th>Country/Region</th>\n",
       "      <th></th>\n",
       "    </tr>\n",
       "  </thead>\n",
       "  <tbody>\n",
       "    <tr>\n",
       "      <th>Afghanistan</th>\n",
       "      <td>232.0</td>\n",
       "    </tr>\n",
       "    <tr>\n",
       "      <th>Albania</th>\n",
       "      <td>34.0</td>\n",
       "    </tr>\n",
       "    <tr>\n",
       "      <th>Algeria</th>\n",
       "      <td>199.0</td>\n",
       "    </tr>\n",
       "    <tr>\n",
       "      <th>Andorra</th>\n",
       "      <td>43.0</td>\n",
       "    </tr>\n",
       "    <tr>\n",
       "      <th>Angola</th>\n",
       "      <td>5.0</td>\n",
       "    </tr>\n",
       "  </tbody>\n",
       "</table>\n",
       "</div>"
      ],
      "text/plain": [
       "                max_infection_rate\n",
       "Country/Region                    \n",
       "Afghanistan                  232.0\n",
       "Albania                       34.0\n",
       "Algeria                      199.0\n",
       "Andorra                       43.0\n",
       "Angola                         5.0"
      ]
     },
     "execution_count": 18,
     "metadata": {},
     "output_type": "execute_result"
    }
   ],
   "source": [
    "df = pd.DataFrame(covid_data_agg['max_infection_rate'])\n",
    "df.head()"
   ]
  },
  {
   "cell_type": "code",
   "execution_count": 19,
   "id": "89effe91",
   "metadata": {
    "execution": {
     "iopub.execute_input": "2022-01-16T17:56:11.892021Z",
     "iopub.status.busy": "2022-01-16T17:56:11.891327Z",
     "iopub.status.idle": "2022-01-16T17:56:11.900301Z",
     "shell.execute_reply": "2022-01-16T17:56:11.900885Z",
     "shell.execute_reply.started": "2022-01-16T17:51:46.379535Z"
    },
    "papermill": {
     "duration": 0.048169,
     "end_time": "2022-01-16T17:56:11.901046",
     "exception": false,
     "start_time": "2022-01-16T17:56:11.852877",
     "status": "completed"
    },
    "tags": []
   },
   "outputs": [
    {
     "data": {
      "text/plain": [
       "(156, 9)"
      ]
     },
     "execution_count": 19,
     "metadata": {},
     "output_type": "execute_result"
    }
   ],
   "source": [
    "happiness_data = pd.read_csv('../input/dataset/worldwide_happiness_report.csv')\n",
    "happiness_data.shape"
   ]
  },
  {
   "cell_type": "code",
   "execution_count": 20,
   "id": "13f0d82a",
   "metadata": {
    "execution": {
     "iopub.execute_input": "2022-01-16T17:56:11.972734Z",
     "iopub.status.busy": "2022-01-16T17:56:11.972159Z",
     "iopub.status.idle": "2022-01-16T17:56:11.985558Z",
     "shell.execute_reply": "2022-01-16T17:56:11.986148Z",
     "shell.execute_reply.started": "2022-01-16T17:51:46.398990Z"
    },
    "papermill": {
     "duration": 0.050986,
     "end_time": "2022-01-16T17:56:11.986326",
     "exception": false,
     "start_time": "2022-01-16T17:56:11.935340",
     "status": "completed"
    },
    "tags": []
   },
   "outputs": [
    {
     "data": {
      "text/html": [
       "<div>\n",
       "<style scoped>\n",
       "    .dataframe tbody tr th:only-of-type {\n",
       "        vertical-align: middle;\n",
       "    }\n",
       "\n",
       "    .dataframe tbody tr th {\n",
       "        vertical-align: top;\n",
       "    }\n",
       "\n",
       "    .dataframe thead th {\n",
       "        text-align: right;\n",
       "    }\n",
       "</style>\n",
       "<table border=\"1\" class=\"dataframe\">\n",
       "  <thead>\n",
       "    <tr style=\"text-align: right;\">\n",
       "      <th></th>\n",
       "      <th>Overall rank</th>\n",
       "      <th>Country or region</th>\n",
       "      <th>Score</th>\n",
       "      <th>GDP per capita</th>\n",
       "      <th>Social support</th>\n",
       "      <th>Healthy life expectancy</th>\n",
       "      <th>Freedom to make life choices</th>\n",
       "      <th>Generosity</th>\n",
       "      <th>Perceptions of corruption</th>\n",
       "    </tr>\n",
       "  </thead>\n",
       "  <tbody>\n",
       "    <tr>\n",
       "      <th>0</th>\n",
       "      <td>1</td>\n",
       "      <td>Finland</td>\n",
       "      <td>7.769</td>\n",
       "      <td>1.340</td>\n",
       "      <td>1.587</td>\n",
       "      <td>0.986</td>\n",
       "      <td>0.596</td>\n",
       "      <td>0.153</td>\n",
       "      <td>0.393</td>\n",
       "    </tr>\n",
       "    <tr>\n",
       "      <th>1</th>\n",
       "      <td>2</td>\n",
       "      <td>Denmark</td>\n",
       "      <td>7.600</td>\n",
       "      <td>1.383</td>\n",
       "      <td>1.573</td>\n",
       "      <td>0.996</td>\n",
       "      <td>0.592</td>\n",
       "      <td>0.252</td>\n",
       "      <td>0.410</td>\n",
       "    </tr>\n",
       "    <tr>\n",
       "      <th>2</th>\n",
       "      <td>3</td>\n",
       "      <td>Norway</td>\n",
       "      <td>7.554</td>\n",
       "      <td>1.488</td>\n",
       "      <td>1.582</td>\n",
       "      <td>1.028</td>\n",
       "      <td>0.603</td>\n",
       "      <td>0.271</td>\n",
       "      <td>0.341</td>\n",
       "    </tr>\n",
       "    <tr>\n",
       "      <th>3</th>\n",
       "      <td>4</td>\n",
       "      <td>Iceland</td>\n",
       "      <td>7.494</td>\n",
       "      <td>1.380</td>\n",
       "      <td>1.624</td>\n",
       "      <td>1.026</td>\n",
       "      <td>0.591</td>\n",
       "      <td>0.354</td>\n",
       "      <td>0.118</td>\n",
       "    </tr>\n",
       "    <tr>\n",
       "      <th>4</th>\n",
       "      <td>5</td>\n",
       "      <td>Netherlands</td>\n",
       "      <td>7.488</td>\n",
       "      <td>1.396</td>\n",
       "      <td>1.522</td>\n",
       "      <td>0.999</td>\n",
       "      <td>0.557</td>\n",
       "      <td>0.322</td>\n",
       "      <td>0.298</td>\n",
       "    </tr>\n",
       "  </tbody>\n",
       "</table>\n",
       "</div>"
      ],
      "text/plain": [
       "   Overall rank Country or region  Score  GDP per capita  Social support  \\\n",
       "0             1           Finland  7.769           1.340           1.587   \n",
       "1             2           Denmark  7.600           1.383           1.573   \n",
       "2             3            Norway  7.554           1.488           1.582   \n",
       "3             4           Iceland  7.494           1.380           1.624   \n",
       "4             5       Netherlands  7.488           1.396           1.522   \n",
       "\n",
       "   Healthy life expectancy  Freedom to make life choices  Generosity  \\\n",
       "0                    0.986                         0.596       0.153   \n",
       "1                    0.996                         0.592       0.252   \n",
       "2                    1.028                         0.603       0.271   \n",
       "3                    1.026                         0.591       0.354   \n",
       "4                    0.999                         0.557       0.322   \n",
       "\n",
       "   Perceptions of corruption  \n",
       "0                      0.393  \n",
       "1                      0.410  \n",
       "2                      0.341  \n",
       "3                      0.118  \n",
       "4                      0.298  "
      ]
     },
     "execution_count": 20,
     "metadata": {},
     "output_type": "execute_result"
    }
   ],
   "source": [
    "happiness_data.head()"
   ]
  },
  {
   "cell_type": "code",
   "execution_count": 21,
   "id": "2c1ec8af",
   "metadata": {
    "execution": {
     "iopub.execute_input": "2022-01-16T17:56:12.059595Z",
     "iopub.status.busy": "2022-01-16T17:56:12.059002Z",
     "iopub.status.idle": "2022-01-16T17:56:12.064861Z",
     "shell.execute_reply": "2022-01-16T17:56:12.065375Z",
     "shell.execute_reply.started": "2022-01-16T17:51:46.415170Z"
    },
    "papermill": {
     "duration": 0.043929,
     "end_time": "2022-01-16T17:56:12.065543",
     "exception": false,
     "start_time": "2022-01-16T17:56:12.021614",
     "status": "completed"
    },
    "tags": []
   },
   "outputs": [
    {
     "data": {
      "text/plain": [
       "(156, 5)"
      ]
     },
     "execution_count": 21,
     "metadata": {},
     "output_type": "execute_result"
    }
   ],
   "source": [
    "useless_cols = ['Overall rank', 'Score', 'Generosity', 'Perceptions of corruption']\n",
    "\n",
    "# Drop the useless cols \n",
    "happiness_data.drop(useless_cols, inplace=True, axis=1)\n",
    "happiness_data.shape"
   ]
  },
  {
   "cell_type": "code",
   "execution_count": 22,
   "id": "d6aaaecc",
   "metadata": {
    "execution": {
     "iopub.execute_input": "2022-01-16T17:56:12.139526Z",
     "iopub.status.busy": "2022-01-16T17:56:12.138930Z",
     "iopub.status.idle": "2022-01-16T17:56:12.142721Z",
     "shell.execute_reply": "2022-01-16T17:56:12.143231Z",
     "shell.execute_reply.started": "2022-01-16T17:51:46.427775Z"
    },
    "papermill": {
     "duration": 0.042522,
     "end_time": "2022-01-16T17:56:12.143362",
     "exception": false,
     "start_time": "2022-01-16T17:56:12.100840",
     "status": "completed"
    },
    "tags": []
   },
   "outputs": [],
   "source": [
    "happiness_data.set_index('Country or region', inplace=True)"
   ]
  },
  {
   "cell_type": "code",
   "execution_count": 23,
   "id": "565c247e",
   "metadata": {
    "execution": {
     "iopub.execute_input": "2022-01-16T17:56:12.218233Z",
     "iopub.status.busy": "2022-01-16T17:56:12.217672Z",
     "iopub.status.idle": "2022-01-16T17:56:12.233414Z",
     "shell.execute_reply": "2022-01-16T17:56:12.232991Z",
     "shell.execute_reply.started": "2022-01-16T17:51:46.435754Z"
    },
    "papermill": {
     "duration": 0.054558,
     "end_time": "2022-01-16T17:56:12.233572",
     "exception": false,
     "start_time": "2022-01-16T17:56:12.179014",
     "status": "completed"
    },
    "tags": []
   },
   "outputs": [
    {
     "data": {
      "text/html": [
       "<div>\n",
       "<style scoped>\n",
       "    .dataframe tbody tr th:only-of-type {\n",
       "        vertical-align: middle;\n",
       "    }\n",
       "\n",
       "    .dataframe tbody tr th {\n",
       "        vertical-align: top;\n",
       "    }\n",
       "\n",
       "    .dataframe thead th {\n",
       "        text-align: right;\n",
       "    }\n",
       "</style>\n",
       "<table border=\"1\" class=\"dataframe\">\n",
       "  <thead>\n",
       "    <tr style=\"text-align: right;\">\n",
       "      <th></th>\n",
       "      <th>max_infection_rate</th>\n",
       "      <th>GDP per capita</th>\n",
       "      <th>Social support</th>\n",
       "      <th>Healthy life expectancy</th>\n",
       "      <th>Freedom to make life choices</th>\n",
       "    </tr>\n",
       "  </thead>\n",
       "  <tbody>\n",
       "    <tr>\n",
       "      <th>Afghanistan</th>\n",
       "      <td>232.0</td>\n",
       "      <td>0.350</td>\n",
       "      <td>0.517</td>\n",
       "      <td>0.361</td>\n",
       "      <td>0.000</td>\n",
       "    </tr>\n",
       "    <tr>\n",
       "      <th>Albania</th>\n",
       "      <td>34.0</td>\n",
       "      <td>0.947</td>\n",
       "      <td>0.848</td>\n",
       "      <td>0.874</td>\n",
       "      <td>0.383</td>\n",
       "    </tr>\n",
       "    <tr>\n",
       "      <th>Algeria</th>\n",
       "      <td>199.0</td>\n",
       "      <td>1.002</td>\n",
       "      <td>1.160</td>\n",
       "      <td>0.785</td>\n",
       "      <td>0.086</td>\n",
       "    </tr>\n",
       "    <tr>\n",
       "      <th>Argentina</th>\n",
       "      <td>291.0</td>\n",
       "      <td>1.092</td>\n",
       "      <td>1.432</td>\n",
       "      <td>0.881</td>\n",
       "      <td>0.471</td>\n",
       "    </tr>\n",
       "    <tr>\n",
       "      <th>Armenia</th>\n",
       "      <td>134.0</td>\n",
       "      <td>0.850</td>\n",
       "      <td>1.055</td>\n",
       "      <td>0.815</td>\n",
       "      <td>0.283</td>\n",
       "    </tr>\n",
       "  </tbody>\n",
       "</table>\n",
       "</div>"
      ],
      "text/plain": [
       "             max_infection_rate  GDP per capita  Social support  \\\n",
       "Afghanistan               232.0           0.350           0.517   \n",
       "Albania                    34.0           0.947           0.848   \n",
       "Algeria                   199.0           1.002           1.160   \n",
       "Argentina                 291.0           1.092           1.432   \n",
       "Armenia                   134.0           0.850           1.055   \n",
       "\n",
       "             Healthy life expectancy  Freedom to make life choices  \n",
       "Afghanistan                    0.361                         0.000  \n",
       "Albania                        0.874                         0.383  \n",
       "Algeria                        0.785                         0.086  \n",
       "Argentina                      0.881                         0.471  \n",
       "Armenia                        0.815                         0.283  "
      ]
     },
     "execution_count": 23,
     "metadata": {},
     "output_type": "execute_result"
    }
   ],
   "source": [
    "data = df.join(happiness_data, how='inner')\n",
    "data.head()"
   ]
  },
  {
   "cell_type": "code",
   "execution_count": 24,
   "id": "e8d544e5",
   "metadata": {
    "execution": {
     "iopub.execute_input": "2022-01-16T17:56:12.313029Z",
     "iopub.status.busy": "2022-01-16T17:56:12.312397Z",
     "iopub.status.idle": "2022-01-16T17:56:12.609021Z",
     "shell.execute_reply": "2022-01-16T17:56:12.609515Z",
     "shell.execute_reply.started": "2022-01-16T17:51:55.752521Z"
    },
    "papermill": {
     "duration": 0.339272,
     "end_time": "2022-01-16T17:56:12.609680",
     "exception": false,
     "start_time": "2022-01-16T17:56:12.270408",
     "status": "completed"
    },
    "tags": []
   },
   "outputs": [
    {
     "name": "stderr",
     "output_type": "stream",
     "text": [
      "/opt/conda/lib/python3.7/site-packages/seaborn/_decorators.py:43: FutureWarning: Pass the following variables as keyword args: x, y. From version 0.12, the only valid positional argument will be `data`, and passing other arguments without an explicit keyword will result in an error or misinterpretation.\n",
      "  FutureWarning\n"
     ]
    },
    {
     "data": {
      "text/plain": [
       "<AxesSubplot:xlabel='GDP per capita', ylabel='max_infection_rate'>"
      ]
     },
     "execution_count": 24,
     "metadata": {},
     "output_type": "execute_result"
    },
    {
     "data": {
      "image/png": "[encoded data removed]",
      "text/plain": [
       "<Figure size 432x288 with 1 Axes>"
      ]
     },
     "metadata": {
      "needs_background": "light"
     },
     "output_type": "display_data"
    }
   ],
   "source": [
    "x = data['GDP per capita']\n",
    "y = data['max_infection_rate']\n",
    "sns.regplot(x, np.log(y))"
   ]
  },
  {
   "cell_type": "code",
   "execution_count": 25,
   "id": "ab5344c7",
   "metadata": {
    "execution": {
     "iopub.execute_input": "2022-01-16T17:56:12.689742Z",
     "iopub.status.busy": "2022-01-16T17:56:12.688747Z",
     "iopub.status.idle": "2022-01-16T17:56:12.977428Z",
     "shell.execute_reply": "2022-01-16T17:56:12.977926Z",
     "shell.execute_reply.started": "2022-01-16T17:52:53.295163Z"
    },
    "papermill": {
     "duration": 0.329809,
     "end_time": "2022-01-16T17:56:12.978091",
     "exception": false,
     "start_time": "2022-01-16T17:56:12.648282",
     "status": "completed"
    },
    "tags": []
   },
   "outputs": [
    {
     "name": "stderr",
     "output_type": "stream",
     "text": [
      "/opt/conda/lib/python3.7/site-packages/seaborn/_decorators.py:43: FutureWarning: Pass the following variables as keyword args: x, y. From version 0.12, the only valid positional argument will be `data`, and passing other arguments without an explicit keyword will result in an error or misinterpretation.\n",
      "  FutureWarning\n"
     ]
    },
    {
     "data": {
      "text/plain": [
       "<AxesSubplot:xlabel='Social support', ylabel='max_infection_rate'>"
      ]
     },
     "execution_count": 25,
     "metadata": {},
     "output_type": "execute_result"
    },
    {
     "data": {
      "image/png": "[encoded data removed]",
      "text/plain": [
       "<Figure size 432x288 with 1 Axes>"
      ]
     },
     "metadata": {
      "needs_background": "light"
     },
     "output_type": "display_data"
    }
   ],
   "source": [
    "x = data['Social support']\n",
    "y = data['max_infection_rate']\n",
    "sns.regplot(x, np.log(y))"
   ]
  },
  {
   "cell_type": "code",
   "execution_count": 26,
   "id": "03b24390",
   "metadata": {
    "execution": {
     "iopub.execute_input": "2022-01-16T17:56:13.084103Z",
     "iopub.status.busy": "2022-01-16T17:56:13.081931Z",
     "iopub.status.idle": "2022-01-16T17:56:13.333859Z",
     "shell.execute_reply": "2022-01-16T17:56:13.333302Z",
     "shell.execute_reply.started": "2022-01-16T17:53:33.225429Z"
    },
    "papermill": {
     "duration": 0.315975,
     "end_time": "2022-01-16T17:56:13.334007",
     "exception": false,
     "start_time": "2022-01-16T17:56:13.018032",
     "status": "completed"
    },
    "tags": []
   },
   "outputs": [
    {
     "name": "stderr",
     "output_type": "stream",
     "text": [
      "/opt/conda/lib/python3.7/site-packages/seaborn/_decorators.py:43: FutureWarning: Pass the following variables as keyword args: x, y. From version 0.12, the only valid positional argument will be `data`, and passing other arguments without an explicit keyword will result in an error or misinterpretation.\n",
      "  FutureWarning\n"
     ]
    },
    {
     "data": {
      "text/plain": [
       "<AxesSubplot:xlabel='Healthy life expectancy', ylabel='max_infection_rate'>"
      ]
     },
     "execution_count": 26,
     "metadata": {},
     "output_type": "execute_result"
    },
    {
     "data": {
      "image/png": "[encoded data removed]",
      "text/plain": [
       "<Figure size 432x288 with 1 Axes>"
      ]
     },
     "metadata": {
      "needs_background": "light"
     },
     "output_type": "display_data"
    }
   ],
   "source": [
    "x = data['Healthy life expectancy']\n",
    "y = data['max_infection_rate']\n",
    "sns.regplot(x, np.log(y))"
   ]
  },
  {
   "cell_type": "code",
   "execution_count": 27,
   "id": "4c389202",
   "metadata": {
    "execution": {
     "iopub.execute_input": "2022-01-16T17:56:13.444285Z",
     "iopub.status.busy": "2022-01-16T17:56:13.442594Z",
     "iopub.status.idle": "2022-01-16T17:56:13.701617Z",
     "shell.execute_reply": "2022-01-16T17:56:13.702066Z",
     "shell.execute_reply.started": "2022-01-16T17:53:55.207683Z"
    },
    "papermill": {
     "duration": 0.325722,
     "end_time": "2022-01-16T17:56:13.702216",
     "exception": false,
     "start_time": "2022-01-16T17:56:13.376494",
     "status": "completed"
    },
    "tags": []
   },
   "outputs": [
    {
     "name": "stderr",
     "output_type": "stream",
     "text": [
      "/opt/conda/lib/python3.7/site-packages/seaborn/_decorators.py:43: FutureWarning: Pass the following variables as keyword args: x, y. From version 0.12, the only valid positional argument will be `data`, and passing other arguments without an explicit keyword will result in an error or misinterpretation.\n",
      "  FutureWarning\n"
     ]
    },
    {
     "data": {
      "text/plain": [
       "<AxesSubplot:xlabel='Freedom to make life choices', ylabel='max_infection_rate'>"
      ]
     },
     "execution_count": 27,
     "metadata": {},
     "output_type": "execute_result"
    },
    {
     "data": {
      "image/png": "[encoded data removed]",
      "text/plain": [
       "<Figure size 432x288 with 1 Axes>"
      ]
     },
     "metadata": {
      "needs_background": "light"
     },
     "output_type": "display_data"
    }
   ],
   "source": [
    "x = data['Freedom to make life choices']\n",
    "y = data['max_infection_rate']\n",
    "sns.regplot(x, np.log(y))"
   ]
  },
  {
   "cell_type": "code",
   "execution_count": 28,
   "id": "f3acc262",
   "metadata": {
    "execution": {
     "iopub.execute_input": "2022-01-16T17:56:13.793974Z",
     "iopub.status.busy": "2022-01-16T17:56:13.793044Z",
     "iopub.status.idle": "2022-01-16T17:56:13.807002Z",
     "shell.execute_reply": "2022-01-16T17:56:13.807386Z",
     "shell.execute_reply.started": "2022-01-16T17:55:19.987516Z"
    },
    "papermill": {
     "duration": 0.062709,
     "end_time": "2022-01-16T17:56:13.807575",
     "exception": false,
     "start_time": "2022-01-16T17:56:13.744866",
     "status": "completed"
    },
    "tags": []
   },
   "outputs": [
    {
     "data": {
      "text/html": [
       "<div>\n",
       "<style scoped>\n",
       "    .dataframe tbody tr th:only-of-type {\n",
       "        vertical-align: middle;\n",
       "    }\n",
       "\n",
       "    .dataframe tbody tr th {\n",
       "        vertical-align: top;\n",
       "    }\n",
       "\n",
       "    .dataframe thead th {\n",
       "        text-align: right;\n",
       "    }\n",
       "</style>\n",
       "<table border=\"1\" class=\"dataframe\">\n",
       "  <thead>\n",
       "    <tr style=\"text-align: right;\">\n",
       "      <th></th>\n",
       "      <th>max_infection_rate</th>\n",
       "      <th>GDP per capita</th>\n",
       "      <th>Social support</th>\n",
       "      <th>Healthy life expectancy</th>\n",
       "      <th>Freedom to make life choices</th>\n",
       "    </tr>\n",
       "  </thead>\n",
       "  <tbody>\n",
       "    <tr>\n",
       "      <th>max_infection_rate</th>\n",
       "      <td>1.000000</td>\n",
       "      <td>-0.139348</td>\n",
       "      <td>-0.177291</td>\n",
       "      <td>-0.161248</td>\n",
       "      <td>-0.155545</td>\n",
       "    </tr>\n",
       "    <tr>\n",
       "      <th>GDP per capita</th>\n",
       "      <td>-0.139348</td>\n",
       "      <td>1.000000</td>\n",
       "      <td>0.759468</td>\n",
       "      <td>0.863062</td>\n",
       "      <td>0.394603</td>\n",
       "    </tr>\n",
       "    <tr>\n",
       "      <th>Social support</th>\n",
       "      <td>-0.177291</td>\n",
       "      <td>0.759468</td>\n",
       "      <td>1.000000</td>\n",
       "      <td>0.765286</td>\n",
       "      <td>0.456246</td>\n",
       "    </tr>\n",
       "    <tr>\n",
       "      <th>Healthy life expectancy</th>\n",
       "      <td>-0.161248</td>\n",
       "      <td>0.863062</td>\n",
       "      <td>0.765286</td>\n",
       "      <td>1.000000</td>\n",
       "      <td>0.427892</td>\n",
       "    </tr>\n",
       "    <tr>\n",
       "      <th>Freedom to make life choices</th>\n",
       "      <td>-0.155545</td>\n",
       "      <td>0.394603</td>\n",
       "      <td>0.456246</td>\n",
       "      <td>0.427892</td>\n",
       "      <td>1.000000</td>\n",
       "    </tr>\n",
       "  </tbody>\n",
       "</table>\n",
       "</div>"
      ],
      "text/plain": [
       "                              max_infection_rate  GDP per capita  \\\n",
       "max_infection_rate                      1.000000       -0.139348   \n",
       "GDP per capita                         -0.139348        1.000000   \n",
       "Social support                         -0.177291        0.759468   \n",
       "Healthy life expectancy                -0.161248        0.863062   \n",
       "Freedom to make life choices           -0.155545        0.394603   \n",
       "\n",
       "                              Social support  Healthy life expectancy  \\\n",
       "max_infection_rate                 -0.177291                -0.161248   \n",
       "GDP per capita                      0.759468                 0.863062   \n",
       "Social support                      1.000000                 0.765286   \n",
       "Healthy life expectancy             0.765286                 1.000000   \n",
       "Freedom to make life choices        0.456246                 0.427892   \n",
       "\n",
       "                              Freedom to make life choices  \n",
       "max_infection_rate                               -0.155545  \n",
       "GDP per capita                                    0.394603  \n",
       "Social support                                    0.456246  \n",
       "Healthy life expectancy                           0.427892  \n",
       "Freedom to make life choices                      1.000000  "
      ]
     },
     "execution_count": 28,
     "metadata": {},
     "output_type": "execute_result"
    }
   ],
   "source": [
    "data.corr()"
   ]
  },
  {
   "cell_type": "code",
   "execution_count": 29,
   "id": "94ab61e9",
   "metadata": {
    "execution": {
     "iopub.execute_input": "2022-01-16T17:56:13.899249Z",
     "iopub.status.busy": "2022-01-16T17:56:13.898265Z",
     "iopub.status.idle": "2022-01-16T17:56:14.311867Z",
     "shell.execute_reply": "2022-01-16T17:56:14.312411Z",
     "shell.execute_reply.started": "2022-01-16T17:55:41.487701Z"
    },
    "papermill": {
     "duration": 0.461455,
     "end_time": "2022-01-16T17:56:14.312583",
     "exception": false,
     "start_time": "2022-01-16T17:56:13.851128",
     "status": "completed"
    },
    "tags": []
   },
   "outputs": [
    {
     "data": {
      "text/plain": [
       "<AxesSubplot:>"
      ]
     },
     "execution_count": 29,
     "metadata": {},
     "output_type": "execute_result"
    },
    {
     "data": {
      "image/png": "[encoded data removed]",
      "text/plain": [
       "<Figure size 432x288 with 2 Axes>"
      ]
     },
     "metadata": {
      "needs_background": "light"
     },
     "output_type": "display_data"
    }
   ],
   "source": [
    "sns.heatmap(data.corr(), annot=True)"
   ]
  },
  {
   "cell_type": "code",
   "execution_count": null,
   "id": "81f6a9e3",
   "metadata": {
    "papermill": {
     "duration": 0.044284,
     "end_time": "2022-01-16T17:56:14.401437",
     "exception": false,
     "start_time": "2022-01-16T17:56:14.357153",
     "status": "completed"
    },
    "tags": []
   },
   "outputs": [],
   "source": []
  }
 ],
 "metadata": {
  "kernelspec": {
   "display_name": "Python 3",
   "language": "python",
   "name": "python3"
  },
  "language_info": {
   "codemirror_mode": {
    "name": "ipython",
    "version": 3
   },
   "file_extension": ".py",
   "mimetype": "text/x-python",
   "name": "python",
   "nbconvert_exporter": "python",
   "pygments_lexer": "ipython3",
   "version": "3.7.12"
  },
  "papermill": {
   "default_parameters": {},
   "duration": 15.941523,
   "end_time": "2022-01-16T17:56:15.055541",
   "environment_variables": {},
   "exception": null,
   "input_path": "__notebook__.ipynb",
   "output_path": "__notebook__.ipynb",
   "parameters": {},
   "start_time": "2022-01-16T17:55:59.114018",
   "version": "2.3.3"
  }
 },
 "nbformat": 4,
 "nbformat_minor": 5
}
